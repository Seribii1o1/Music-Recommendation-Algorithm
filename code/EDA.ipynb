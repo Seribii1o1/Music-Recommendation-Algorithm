{
 "cells": [
  {
   "cell_type": "markdown",
   "metadata": {},
   "source": [
    "Review the list below to find out more about this datasets columns:\n",
    "\n",
    "artist_name: The name of the artist\n",
    "\n",
    "track_name: The name of the song\n",
    "\n",
    "release_date: When this song was released\n",
    "\n",
    "genre: The categorical genre of this song\n",
    "\n",
    "lyrics: The pre-tokenized lyrics of this song. Disclaimer: note that as this is real-world data, lyrical content is often obscene. \n",
    "\n",
    "len:  The number of words in the lyrics of this song\n",
    "\n",
    "dating: A score from 0 to 1 expressing how likely it is that this song’s lyrics have something to do with dating.\n",
    "\n",
    "violence: A score from 0 to 1 expressing how likely it is that this song’s lyrics have something to do with violence.\n",
    "\n",
    "world/life: A score from 0 to 1 expressing how likely it is that this song’s lyrics have something to do with the world or life in general terms.\n",
    "\n",
    "night/time: A score from 0 to 1 expressing how likely it is that this song’s lyrics have something to do night-life or time.\n",
    "\n",
    "shake the audience: A score from 0 to 1 expressing how likely it is that this song’s lyrics have something to do with provocative feeling.\n",
    "\n",
    "family/gospel: A score from 0 to 1 expressing how likely it is that this song’s lyrics have something to do with family-oriented content or the gospel.\n",
    "\n",
    "romantic: A score from 0 to 1 expressing how likely it is that this song’s lyrics have something to do with romantic feeling.\n",
    "\n",
    "communication: A score from 0 to 1 expressing how likely it is that this song’s lyrics have something to do with communication (either in romantic terms or otherwise).\n",
    "\n",
    "obscene: A score from 0 to 1 expressing how likely it is that this song’s lyrics have something to do with obscene content (money, rockstar-lifestyle, etc).\n",
    "\n",
    "music: A score from 0 to 1 expressing how likely it is that this song’s lyrics have something to do with music (music about music, basically).\n",
    "\n",
    "movement/places: A score from 0 to 1 expressing how likely it is that this song’s lyrics have something to do with movement or various locations.\n",
    "\n",
    "light/visual perceptions: A score from 0 to 1 expressing how likely it is that this song’s lyrics have something to do with the sun or other physical weather-related patterns.\n",
    "\n",
    "family/spiritual: A score from 0 to 1 expressing how likely it is that this song’s lyrics have something to do with the importance of family or spirituality.\n",
    "\n",
    "sadness: A score from 0 to 1 expressing how likely it is that this song’s lyrics have something to do with the importance of family or spirituality.\n",
    "\n",
    "feelings: A score from 0 to 1 expressing how likely it is that this song’s lyrics have something to do with emotions, either positive or negative.\n",
    "\n",
    "topic: The categorical label of lyrical content\n",
    "\n",
    "age: A score from 0 to 1 expressing how “old” a song is from our perspective. 1 being the oldest, and 0 being the newest.\n",
    "\n"
   ]
  }
 ],
 "metadata": {
  "language_info": {
   "name": "python"
  }
 },
 "nbformat": 4,
 "nbformat_minor": 2
}
